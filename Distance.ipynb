{
 "cells": [
  {
   "cell_type": "code",
   "execution_count": 1,
   "id": "a305c2ee-20bf-42ba-a3b7-8c42d70d767b",
   "metadata": {},
   "outputs": [],
   "source": [
    "import numpy as np\n",
    "import pandas as pd\n",
    "from scipy.spatial.distance import pdist, squareform"
   ]
  },
  {
   "cell_type": "code",
   "execution_count": 2,
   "id": "5cb4e394-4744-4f9d-a995-a374824613ee",
   "metadata": {},
   "outputs": [],
   "source": [
    "df=pd.read_csv('/public/home/ac73auhrcp/UMT/Distance.txt',delimiter=',',header='infer')"
   ]
  },
  {
   "cell_type": "code",
   "execution_count": 3,
   "id": "552bf470-51e1-4c25-9680-c33f45f99230",
   "metadata": {},
   "outputs": [],
   "source": [
    "dist=df[['x','y']]"
   ]
  },
  {
   "cell_type": "code",
   "execution_count": 4,
   "id": "fb93cf64-ab32-4695-b51d-8e132dfdcf1e",
   "metadata": {},
   "outputs": [],
   "source": [
    "# 使用pdist函数计算距离矩阵\n",
    "distances = pdist(dist)"
   ]
  },
  {
   "cell_type": "code",
   "execution_count": 5,
   "id": "63f62eaf-fa42-46b0-9646-fb7678f3e97b",
   "metadata": {},
   "outputs": [],
   "source": [
    "# 使用squareform函数将距离矩阵转换为方阵\n",
    "distance_matrix = squareform(distances)"
   ]
  },
  {
   "cell_type": "code",
   "execution_count": 6,
   "id": "1a64ae36-a26a-4d75-b510-20e79f0fee0b",
   "metadata": {},
   "outputs": [
    {
     "name": "stdout",
     "output_type": "stream",
     "text": [
      "存储完成\n"
     ]
    }
   ],
   "source": [
    "np.savetxt('/public/home/ac73auhrcp/UMT/Result_Distance.csv',distance_matrix, delimiter=',')\n",
    "print(\"Complete!\")"
   ]
  },
  {
   "cell_type": "code",
   "execution_count": null,
   "id": "17e73338-4256-4ab1-a6cb-7b6a7902b09b",
   "metadata": {},
   "outputs": [],
   "source": []
  }
 ],
 "metadata": {
  "kernelspec": {
   "display_name": "Python 3 (ipykernel)",
   "language": "python",
   "name": "python3"
  },
  "language_info": {
   "codemirror_mode": {
    "name": "ipython",
    "version": 3
   },
   "file_extension": ".py",
   "mimetype": "text/x-python",
   "name": "python",
   "nbconvert_exporter": "python",
   "pygments_lexer": "ipython3",
   "version": "3.7.10"
  }
 },
 "nbformat": 4,
 "nbformat_minor": 5
}
