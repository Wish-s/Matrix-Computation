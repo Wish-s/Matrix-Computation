{
 "cells": [
  {
   "cell_type": "code",
   "execution_count": 1,
   "id": "2c38dea9-5764-4411-abc7-83a376c92c04",
   "metadata": {},
   "outputs": [],
   "source": [
    "import numpy as np\n",
    "import os "
   ]
  },
  {
   "cell_type": "code",
   "execution_count": 2,
   "id": "7053b0ab-1f17-43a6-9313-17a75c392387",
   "metadata": {},
   "outputs": [],
   "source": [
    "with open(r\"/public/home/ac73auhrcp/UMT/Relationship.txt\",\"r\",encoding='UTF-8')as f:\n",
    "    point = f.readlines()\n",
    "points=[]"
   ]
  },
  {
   "cell_type": "code",
   "execution_count": 3,
   "id": "8cf50464-7089-4797-af49-18f3b135b1bc",
   "metadata": {},
   "outputs": [],
   "source": [
    "for p in point:\n",
    "    data = p.strip().split(',')\n",
    "    points.append(data)"
   ]
  },
  {
   "cell_type": "code",
   "execution_count": 4,
   "id": "4c830a70-551e-4aa9-97d2-f14578274870",
   "metadata": {},
   "outputs": [],
   "source": [
    "n=len(points)"
   ]
  },
  {
   "cell_type": "code",
   "execution_count": 6,
   "id": "fd8f3421-297f-4863-9b69-d2ae4241fa83",
   "metadata": {},
   "outputs": [],
   "source": [
    "rr=[[0]*n for z in range(n)]"
   ]
  },
  {
   "cell_type": "code",
   "execution_count": 7,
   "id": "c27b2c1d-622d-4ed5-a480-d92f42328f69",
   "metadata": {},
   "outputs": [],
   "source": [
    "for i in range(len(points)):\n",
    "    r1=int(points[i][4])\n",
    "    for j in range(len(points)):\n",
    "        r2=int(points[j][4])\n",
    "        relationship = r1*10+r2\n",
    "        rr[i][j]=relationship"
   ]
  },
  {
   "cell_type": "code",
   "execution_count": 8,
   "id": "85ce5c13-c789-4ce7-9158-3c49380f05f6",
   "metadata": {},
   "outputs": [],
   "source": [
    "np.savetxt('/public/home/ac73auhrcp/UMT/Result_relationship.csv', rr, delimiter=',')"
   ]
  },
  {
   "cell_type": "code",
   "execution_count": null,
   "id": "d0536261-9fc1-4bfb-a11d-a1101f11a602",
   "metadata": {},
   "outputs": [],
   "source": []
  }
 ],
 "metadata": {
  "kernelspec": {
   "display_name": "Python 3 (ipykernel)",
   "language": "python",
   "name": "python3"
  },
  "language_info": {
   "codemirror_mode": {
    "name": "ipython",
    "version": 3
   },
   "file_extension": ".py",
   "mimetype": "text/x-python",
   "name": "python",
   "nbconvert_exporter": "python",
   "pygments_lexer": "ipython3",
   "version": "3.7.10"
  }
 },
 "nbformat": 4,
 "nbformat_minor": 5
}
